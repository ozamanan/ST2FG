{
 "cells": [
  {
   "cell_type": "code",
   "execution_count": null,
   "metadata": {
    "colab": {
     "base_uri": "https://localhost:8080/"
    },
    "id": "z5tvj5uIHo_9",
    "outputId": "e4a7f393-6aa7-450b-89d8-3a61e12010c7"
   },
   "outputs": [],
   "source": [
    "import os\n",
    "CODE_DIR = 'ST2F'\n",
    "os.chdir(f'./{CODE_DIR}')\n",
    "MODEL_DIR = os.path.join('base', 'models', 'pretrain')\n",
    "os.makedirs(MODEL_DIR, exist_ok=True)\n",
    "\n",
    "!pip install ftfy regex tqdm\n",
    "!pip install git+https://github.com/openai/CLIP.git\n",
    "\n",
    "# download pretrained stylegan and encoder\n",
    "!wget https://drive.google.com/file/d/1sqOicDv6YGefyrrIXqNfly4Z31MuulYz/view?usp=sharing -O $MODEL_DIR/st2f_gan_encoder.pth  --quiet\n",
    "!wget https://drive.google.com/file/d/1E57oulr28OJJbvy2CkgcRqgfxwqsQ3A4/view?usp=sharing -O $MODEL_DIR/st2d_gan_generator.pth  --quiet\n",
    "!wget https://drive.google.com/file/d/1BAVadDHlODplpOX8e91XCQPX8mHKhvRp/view?usp=sharing -O $MODEL_DIR/vgg16.pth  --quiet\n",
    "!nvidia-smi"
   ]
  },
  {
   "cell_type": "code",
   "execution_count": null,
   "metadata": {
    "colab": {
     "base_uri": "https://localhost:8080/"
    },
    "id": "dDGIHAcRSVa2",
    "outputId": "79252f56-041b-4ddf-cc9d-5eea3422b082"
   },
   "outputs": [],
   "source": [
    "%cd base\n",
    "%ls"
   ]
  },
  {
   "cell_type": "code",
   "execution_count": 3,
   "metadata": {
    "id": "Joi23eZsWi1e"
   },
   "outputs": [],
   "source": [
    "model_name = 'st2f_gan'  \n",
    "description = 'he is old'  \n",
    "loss_weight_clip = 2.0  \n",
    "learning_rate = 0.01  \n",
    "num_iterations = 200"
   ]
  },
  {
   "cell_type": "code",
   "execution_count": null,
   "metadata": {
    "colab": {
     "base_uri": "https://localhost:8080/"
    },
    "id": "lty-dVKtXQQP",
    "outputId": "2d279c48-d2e9-403e-e527-e11400414e0d"
   },
   "outputs": [],
   "source": [
    "!python st2f.py \\\n",
    "  --model_name={model_name} \\\n",
    "  --mode='man' \\\n",
    "  --description=f'{description}' \\\n",
    "  --learning_rate={learning_rate} \\\n",
    "  --num_iterations={num_iterations} \\\n",
    "  --loss_weight_clip={loss_weight_clip}"
   ]
  }
 ],
 "metadata": {
  "accelerator": "GPU",
  "colab": {
   "collapsed_sections": [],
   "name": "“playground.ipynb”",
   "provenance": [],
   "toc_visible": true
  },
  "kernelspec": {
   "display_name": "Python 3.8.10 64-bit",
   "language": "python",
   "name": "python3"
  },
  "language_info": {
   "codemirror_mode": {
    "name": "ipython",
    "version": 3
   },
   "file_extension": ".py",
   "mimetype": "text/x-python",
   "name": "python",
   "nbconvert_exporter": "python",
   "pygments_lexer": "ipython3",
   "version": "3.8.10"
  },
  "vscode": {
   "interpreter": {
    "hash": "916dbcbb3f70747c44a77c7bcd40155683ae19c65e1c03b4aa3499c5328201f1"
   }
  }
 },
 "nbformat": 4,
 "nbformat_minor": 1
}
